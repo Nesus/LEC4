{
 "cells": [
  {
   "cell_type": "code",
   "execution_count": 65,
   "metadata": {
    "collapsed": true
   },
   "outputs": [],
   "source": [
    "from sklearn.datasets import load_diabetes,load_breast_cancer\n",
    "from sklearn.linear_model import LinearRegression\n",
    "from sklearn.linear_model import LogisticRegression\n",
    "import numpy as np"
   ]
  },
  {
   "cell_type": "markdown",
   "metadata": {},
   "source": [
    "# Introducción "
   ]
  },
  {
   "cell_type": "markdown",
   "metadata": {},
   "source": [
    "- Los problemas que se están estudiando en el mini-proyecto están relacionados a *Regresión* y *Clasificación*, para ambos casos se tiene un vector de características $x$ y se busca encontrar un valor $y$ dado una función $f$ de tal forma que $\\overline{y} = f(x)$. \n",
    "\n",
    "- Para regresión se busca la función/modelo $f$ de tal forma que se minimize el error cuadrático médio de predicción.\n",
    "\n",
    "- En el caso de Clasificación se busca que la función/modelo asigne correctamente la clase del ejemplo $x_i$ (Maximizar la precisión)"
   ]
  },
  {
   "cell_type": "markdown",
   "metadata": {},
   "source": [
    "### Cargando datos de precio casa"
   ]
  },
  {
   "cell_type": "code",
   "execution_count": 79,
   "metadata": {
    "collapsed": true
   },
   "outputs": [],
   "source": [
    "#Función que carga dataset, ustedes lo pueden hacer cargando los csv. Utilizando numpy o pandas.\n",
    "diabetes = load_diabetes()"
   ]
  },
  {
   "cell_type": "code",
   "execution_count": 80,
   "metadata": {
    "collapsed": false
   },
   "outputs": [],
   "source": [
    "X = diabetes[\"data\"]\n",
    "y = diabetes[\"target\"]"
   ]
  },
  {
   "cell_type": "code",
   "execution_count": 81,
   "metadata": {
    "collapsed": false
   },
   "outputs": [
    {
     "data": {
      "text/plain": [
       "LinearRegression(copy_X=True, fit_intercept=True, n_jobs=1, normalize=False)"
      ]
     },
     "execution_count": 81,
     "metadata": {},
     "output_type": "execute_result"
    }
   ],
   "source": [
    "#Ver la documentación para más información\n",
    "lr = LinearRegression()\n",
    "\n",
    "#Ajustando los parámetros de la regresión lineal.\n",
    "lr.fit(X,y)"
   ]
  },
  {
   "cell_type": "code",
   "execution_count": 82,
   "metadata": {
    "collapsed": true
   },
   "outputs": [],
   "source": [
    "#Luego de ajustar los parámetros podemos predecer los valores\n",
    "y_pred = lr.predict(X)"
   ]
  },
  {
   "cell_type": "markdown",
   "metadata": {},
   "source": [
    "#### Error Cuadrático Medio\n",
    "Sea $y_i$ el valor real del ejemplo $x_i$ e $\\hat{y}_i$ el valor que predice nuestro modelo, se define el error cuadrático medio como:\n",
    "$$ MSE = \\frac{1}{N} \\sum_{i=0}^N(y_i - \\hat{y}_i)^2 $$"
   ]
  },
  {
   "cell_type": "code",
   "execution_count": 83,
   "metadata": {
    "collapsed": false
   },
   "outputs": [],
   "source": [
    "#Error cuadrático medio\n",
    "mse = 1./len(y) * np.sum(np.power(y_pred - y , 2))"
   ]
  },
  {
   "cell_type": "code",
   "execution_count": 84,
   "metadata": {
    "collapsed": false,
    "scrolled": false
   },
   "outputs": [
    {
     "data": {
      "text/plain": [
       "2859.6903987680657"
      ]
     },
     "execution_count": 84,
     "metadata": {},
     "output_type": "execute_result"
    }
   ],
   "source": [
    "mse"
   ]
  },
  {
   "cell_type": "markdown",
   "metadata": {},
   "source": [
    "### Normalizar la data\n",
    "Hay casos donde los datos tienen escalas muy distintas, por lo mismo algunas variables van a perder importancia al momento de ajustar los parámetros, por eso mismo se utiliza un procesamiento previo para mejorar esto.\n",
    "\n",
    "Un ejemplo de procesamiento previo es la normalización de los datos, que busca dejarlos en el rango $[0,1]$, para esto se utiliza la siguiente fórmula:\n",
    "\n",
    "$$ \\hat{x} = \\frac{x - min(x)}{max(x) - min(x)} $$\n",
    "\n",
    "No siempre funcionará realizar este pre-procesamiento todo depende de los datos y el método que se utilizará."
   ]
  },
  {
   "cell_type": "code",
   "execution_count": 85,
   "metadata": {
    "collapsed": false
   },
   "outputs": [],
   "source": [
    "X_norm = (X  - X.min()) / (X.max() - X.min())\n",
    "y_norm = (y - y.min()) / (y.max()- y.min())"
   ]
  },
  {
   "cell_type": "code",
   "execution_count": 86,
   "metadata": {
    "collapsed": false
   },
   "outputs": [
    {
     "data": {
      "text/plain": [
       "LinearRegression(copy_X=True, fit_intercept=True, n_jobs=1, normalize=False)"
      ]
     },
     "execution_count": 86,
     "metadata": {},
     "output_type": "execute_result"
    }
   ],
   "source": [
    "#Sin parámetros\n",
    "lr = LinearRegression()\n",
    "lr.fit(X_norm,y_norm)"
   ]
  },
  {
   "cell_type": "code",
   "execution_count": 87,
   "metadata": {
    "collapsed": true
   },
   "outputs": [],
   "source": [
    "y_pred = lr.predict(X_norm)"
   ]
  },
  {
   "cell_type": "code",
   "execution_count": 88,
   "metadata": {
    "collapsed": true
   },
   "outputs": [],
   "source": [
    "mse = 1./len(y) * np.sum(np.power(y_pred - y_norm , 2))"
   ]
  },
  {
   "cell_type": "code",
   "execution_count": 89,
   "metadata": {
    "collapsed": false
   },
   "outputs": [
    {
     "data": {
      "text/plain": [
       "0.027752937168389918"
      ]
     },
     "execution_count": 89,
     "metadata": {},
     "output_type": "execute_result"
    }
   ],
   "source": [
    "# Error cuadrático medio normalizado\n",
    "mse"
   ]
  },
  {
   "cell_type": "code",
   "execution_count": 90,
   "metadata": {
    "collapsed": false
   },
   "outputs": [
    {
     "data": {
      "text/plain": [
       "33.908692831053166"
      ]
     },
     "execution_count": 90,
     "metadata": {},
     "output_type": "execute_result"
    }
   ],
   "source": [
    "# Volvemos a la escala anterior\n",
    "mse * (y.max()- y.min()) + y.min()"
   ]
  },
  {
   "cell_type": "markdown",
   "metadata": {},
   "source": [
    "#### Cargando datos cancer de mamas"
   ]
  },
  {
   "cell_type": "code",
   "execution_count": 66,
   "metadata": {
    "collapsed": false
   },
   "outputs": [],
   "source": [
    "breast = load_breast_cancer()"
   ]
  },
  {
   "cell_type": "code",
   "execution_count": 67,
   "metadata": {
    "collapsed": false
   },
   "outputs": [],
   "source": [
    "X = breast[\"data\"]\n",
    "y = breast[\"target\"]"
   ]
  },
  {
   "cell_type": "code",
   "execution_count": 91,
   "metadata": {
    "collapsed": false
   },
   "outputs": [
    {
     "data": {
      "text/plain": [
       "LogisticRegression(C=1.0, class_weight=None, dual=False, fit_intercept=True,\n",
       "          intercept_scaling=1, max_iter=100, multi_class='ovr', n_jobs=1,\n",
       "          penalty='l2', random_state=None, solver='liblinear', tol=0.0001,\n",
       "          verbose=0, warm_start=False)"
      ]
     },
     "execution_count": 91,
     "metadata": {},
     "output_type": "execute_result"
    }
   ],
   "source": [
    "#Creando la Regresión Logistica\n",
    "logr = LogisticRegression()\n",
    "\n",
    "#Ajustando los parámetros de la regresión\n",
    "logr.fit(X,y)"
   ]
  },
  {
   "cell_type": "code",
   "execution_count": 92,
   "metadata": {
    "collapsed": false
   },
   "outputs": [],
   "source": [
    "#Luego de ajustar parámetros predecimos la clase \n",
    "y_pred = logr.predict(X)"
   ]
  },
  {
   "cell_type": "markdown",
   "metadata": {},
   "source": [
    "## Precisión\n",
    "Sea $y_i$ la clase a la que pertenece el ejemplo $x_i$ e $\\hat{y}_i$ el valor que predice nuestro modelo. Se define:\n",
    "$$ p(y,\\hat{y}) = \\left\\{\n",
    "\\begin{array}{c l}\n",
    " 1 \\text{ si } y = \\hat{y}\\\\\n",
    " 0 \\text{ en otro caso}\n",
    "\\end{array}\n",
    "\\right. $$\n",
    "\n",
    "La precisión puede ser definida por \n",
    "\n",
    "$$ Precisión = \\frac{1}{N}\\sum_{i=0}^N p(y_i,\\hat{y}_i)$$\n"
   ]
  },
  {
   "cell_type": "code",
   "execution_count": 70,
   "metadata": {
    "collapsed": false
   },
   "outputs": [],
   "source": [
    "prec = 1./len(y) * np.sum(y_pred == y)"
   ]
  },
  {
   "cell_type": "code",
   "execution_count": 71,
   "metadata": {
    "collapsed": false
   },
   "outputs": [
    {
     "data": {
      "text/plain": [
       "0.9595782073813708"
      ]
     },
     "execution_count": 71,
     "metadata": {},
     "output_type": "execute_result"
    }
   ],
   "source": [
    "prec"
   ]
  }
 ],
 "metadata": {
  "anaconda-cloud": {},
  "kernelspec": {
   "display_name": "Python 2",
   "language": "python",
   "name": "python2"
  },
  "language_info": {
   "codemirror_mode": {
    "name": "ipython",
    "version": 2
   },
   "file_extension": ".py",
   "mimetype": "text/x-python",
   "name": "python",
   "nbconvert_exporter": "python",
   "pygments_lexer": "ipython2",
   "version": "2.7.12"
  }
 },
 "nbformat": 4,
 "nbformat_minor": 1
}
